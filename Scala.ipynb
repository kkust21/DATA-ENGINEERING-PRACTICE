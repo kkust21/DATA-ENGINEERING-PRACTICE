{
 "cells": [
  {
   "cell_type": "code",
   "execution_count": 1,
   "id": "9b3ac1da-d039-49ba-96e5-ecda9e5624a6",
   "metadata": {},
   "outputs": [
    {
     "data": {
      "text/plain": [
       "Intitializing Scala interpreter ..."
      ]
     },
     "metadata": {},
     "output_type": "display_data"
    },
    {
     "data": {
      "text/plain": [
       "Spark Web UI available at http://172.19.47.135:4040\n",
       "SparkContext available as 'sc' (version = 3.5.2, master = local[*], app id = local-1725857207129)\n",
       "SparkSession available as 'spark'\n"
      ]
     },
     "metadata": {},
     "output_type": "display_data"
    },
    {
     "name": "stdout",
     "output_type": "stream",
     "text": [
      "[I@25e384c4\n"
     ]
    },
    {
     "data": {
      "text/plain": [
       "arr: Array[Int] = Array(1, 2, 3, 4, 5, 6, 7, 8, 9, 10)\r\n"
      ]
     },
     "execution_count": 1,
     "metadata": {},
     "output_type": "execute_result"
    }
   ],
   "source": [
    "val arr: Array[Int] = Array(1, 2, 3, 4, 5, 6, 7, 8, 9, 10)\n",
    "println(arr)"
   ]
  },
  {
   "cell_type": "code",
   "execution_count": 2,
   "id": "6926ce12-d9a7-49c9-bebd-339a2c4dc75e",
   "metadata": {},
   "outputs": [
    {
     "name": "stdout",
     "output_type": "stream",
     "text": [
      "[I@25e384c4\n"
     ]
    }
   ],
   "source": [
    "println(arr)"
   ]
  },
  {
   "cell_type": "code",
   "execution_count": 4,
   "id": "73537832-c346-4d6b-ac7d-085d3b2b4879",
   "metadata": {},
   "outputs": [
    {
     "name": "stdout",
     "output_type": "stream",
     "text": [
      "Array 1: 1, 2, 3, 4, 5, 6, 7, 8, 9, 10\n"
     ]
    }
   ],
   "source": [
    " println(\"Array 1: \" + arr.mkString(\", \"))"
   ]
  },
  {
   "cell_type": "code",
   "execution_count": 6,
   "id": "04157b92-00b5-4c2a-aaf8-d25bc086bae5",
   "metadata": {},
   "outputs": [
    {
     "name": "stdout",
     "output_type": "stream",
     "text": [
      "Sum of elements: 550\n"
     ]
    },
    {
     "data": {
      "text/plain": [
       "arr: Array[Int] = Array(10, 20, 30, 40, 50, 60, 70, 80, 90, 100)\r\n",
       "sum: Int = 550\r\n"
      ]
     },
     "execution_count": 6,
     "metadata": {},
     "output_type": "execute_result"
    }
   ],
   "source": [
    "val arr: Array[Int] = Array(10, 20, 30, 40, 50, 60, 70, 80, 90, 100)\n",
    "var sum: Int = 0\n",
    "for (elem <- arr) {\n",
    "  sum += elem\n",
    "}\n",
    "println(s\"Sum of elements: $sum\")"
   ]
  },
  {
   "cell_type": "code",
   "execution_count": 7,
   "id": "5b862cce-23a8-4ca3-a7ff-10f2684f1a62",
   "metadata": {},
   "outputs": [
    {
     "name": "stdout",
     "output_type": "stream",
     "text": [
      "Modified array: 20, 40, 60, 80, 100, 120, 140, 160, 180, 200\n"
     ]
    }
   ],
   "source": [
    "for (i <- arr.indices) {\n",
    "  arr(i) *= 2\n",
    "}\n",
    "println(s\"Modified array: ${arr.mkString(\", \")}\")"
   ]
  },
  {
   "cell_type": "code",
   "execution_count": 9,
   "id": "02f03039-27de-46e8-8acf-76f83de7f1a7",
   "metadata": {},
   "outputs": [
    {
     "name": "stdout",
     "output_type": "stream",
     "text": [
      "Reversed array: 200, 180, 160, 140, 120, 100, 80, 60, 40, 20\n"
     ]
    },
    {
     "data": {
      "text/plain": [
       "reversedArr: Array[Int] = Array(200, 180, 160, 140, 120, 100, 80, 60, 40, 20)\r\n"
      ]
     },
     "execution_count": 9,
     "metadata": {},
     "output_type": "execute_result"
    }
   ],
   "source": [
    "val reversedArr: Array[Int] = arr.reverse\n",
    "println(s\"Reversed array: ${reversedArr.mkString(\", \")}\")\n"
   ]
  },
  {
   "cell_type": "code",
   "execution_count": 11,
   "id": "6f5d4cda-38ba-4c8d-8706-7eb1e2ea7cc7",
   "metadata": {},
   "outputs": [
    {
     "data": {
      "text/plain": [
       "maxElement: Int = 200\r\n",
       "minElement: Int = 20\r\n"
      ]
     },
     "execution_count": 11,
     "metadata": {},
     "output_type": "execute_result"
    }
   ],
   "source": [
    "val maxElement: Int = arr.max\n",
    "val minElement: Int = arr.min"
   ]
  },
  {
   "cell_type": "code",
   "execution_count": 12,
   "id": "cb5ce3d0-9b2d-4358-86dc-e33f158c6649",
   "metadata": {},
   "outputs": [
    {
     "name": "stdout",
     "output_type": "stream",
     "text": [
      "List of integers from 1 to 10: 1, 2, 3, 4, 5, 6, 7, 8, 9, 10\n"
     ]
    },
    {
     "data": {
      "text/plain": [
       "numbers: List[Int] = List(1, 2, 3, 4, 5, 6, 7, 8, 9, 10)\r\n"
      ]
     },
     "execution_count": 12,
     "metadata": {},
     "output_type": "execute_result"
    }
   ],
   "source": [
    "val numbers: List[Int] = List(1, 2, 3, 4, 5, 6, 7, 8, 9, 10)\n",
    "println(s\"List of integers from 1 to 10: ${numbers.mkString(\", \")}\")"
   ]
  },
  {
   "cell_type": "code",
   "execution_count": 19,
   "id": "0e54e036-890e-4ba9-9b83-7c55a73f15ac",
   "metadata": {},
   "outputs": [
    {
     "data": {
      "text/plain": [
       "evenNumbers: List[Int] = List(2, 4, 6, 8, 10)\r\n"
      ]
     },
     "execution_count": 19,
     "metadata": {},
     "output_type": "execute_result"
    }
   ],
   "source": [
    "val evenNumbers: List[Int] = numbers.filter(_ % 2 == 0)"
   ]
  },
  {
   "cell_type": "code",
   "execution_count": 18,
   "id": "f06856c6-e1b3-4630-aadf-54a7cb810ff1",
   "metadata": {},
   "outputs": [
    {
     "data": {
      "text/plain": [
       "sumOfEvenNumbers: Int = 30\r\n"
      ]
     },
     "execution_count": 18,
     "metadata": {},
     "output_type": "execute_result"
    }
   ],
   "source": [
    "val sumOfEvenNumbers: Int = evenNumbers.sum"
   ]
  },
  {
   "cell_type": "code",
   "execution_count": null,
   "id": "bc191ecd-d6cc-47db-b3d5-2b0080f3b11b",
   "metadata": {},
   "outputs": [],
   "source": [
    "val countryCapitalMap: Map[String, String]Map(\n",
    "   \"India\" -> \"Delhi\"\n",
    "  \"France\" -> \"Paris\",\n",
    "  \"Japan\" -> \"Tokyo\",\n",
    "  \"Germany\" -> \"Berlin\"\n",
    ")\n",
    "val countryToCheck = \"Japan\""
   ]
  },
  {
   "cell_type": "code",
   "execution_count": null,
   "id": "bb21b716-b506-4504-95ee-42d0710c549c",
   "metadata": {},
   "outputs": [],
   "source": []
  },
  {
   "cell_type": "code",
   "execution_count": 30,
   "id": "71c0f448-a140-4dc2-95b2-8176915d2ca0",
   "metadata": {},
   "outputs": [
    {
     "name": "stdout",
     "output_type": "stream",
     "text": [
      "The capital of India is Delhi.\n",
      "The capital of Germany is Berlin.\n"
     ]
    },
    {
     "data": {
      "text/plain": [
       "countryCapitalMap: Map[String,String] = Map(Japan -> Tokyo, India -> Delhi, Australia -> Canberra, France -> Paris, Germany -> Berlin)\r\n",
       "checkCountry: (country: String)Unit\r\n"
      ]
     },
     "execution_count": 30,
     "metadata": {},
     "output_type": "execute_result"
    }
   ],
   "source": [
    "val countryCapitalMap: Map[String, String] = Map(\n",
    "  \"India\" -> \"Delhi\",\n",
    "  \"France\" -> \"Paris\",\n",
    "  \"Japan\" -> \"Tokyo\",\n",
    "  \"Germany\" -> \"Berlin\",\n",
    "  \"Australia\" -> \"Canberra\"\n",
    ")\n",
    "def checkCountry(country: String) {\n",
    "  if (countryCapitalMap.contains(country)) {\n",
    "    println(f\"The capital of $country is ${countryCapitalMap(country)}.\")\n",
    "  } else {\n",
    "    println(f\"$country is not in the map.\")\n",
    "  }\n",
    "}\n",
    "\n",
    "// checking\n",
    "checkCountry(\"India\")\n",
    "checkCountry(\"Germany\")"
   ]
  },
  {
   "cell_type": "code",
   "execution_count": 37,
   "id": "723d24d8-b9c5-43a7-9672-519a9e05d7ab",
   "metadata": {},
   "outputs": [
    {
     "name": "stdout",
     "output_type": "stream",
     "text": [
      "Circle Area: 78.53981633974483\n",
      "Circle Perimeter: 31.41592653589793\n",
      "Rectangle Area: 42.0\n",
      "Rectangle Perimeter: 26.0\n"
     ]
    },
    {
     "data": {
      "text/plain": [
       "defined trait Shape\r\n",
       "defined class Circle\r\n",
       "defined class Rectangle\r\n",
       "circle: Circle = Circle@6197ff3b\r\n",
       "rectangle: Rectangle = Rectangle@79bc85d1\r\n"
      ]
     },
     "execution_count": 37,
     "metadata": {},
     "output_type": "execute_result"
    }
   ],
   "source": [
    "trait Shape {\n",
    "  def area(): Double\n",
    "  def perimeter(): Double\n",
    "}\n",
    "class Circle(val radius:Double) extends Shape{\n",
    "    override def area(): Double = Math.PI * radius * radius\n",
    "    override def perimeter(): Double = 2 * Math.PI * radius\n",
    "}\n",
    "class Rectangle(val length:Double, val width:Double)extends Shape{\n",
    "    override def area(): Double = length * width\n",
    "    override def perimeter(): Double =2 *(length + width)    \n",
    "}\n",
    "val circle = new Circle(5)\n",
    "val rectangle = new Rectangle(6,7)\n",
    "\n",
    "println(f\"Circle Area: ${circle.area()}\")\n",
    "println(f\"Circle Perimeter: ${circle.perimeter()}\")\n",
    "println(f\"Rectangle Area: ${rectangle.area()}\")\n",
    "println(f\"Rectangle Perimeter: ${rectangle.perimeter()}\")\n",
    "\n"
   ]
  },
  {
   "cell_type": "code",
   "execution_count": 35,
   "id": "2e7c386e-4f80-44db-8cc7-65f77a513cf9",
   "metadata": {},
   "outputs": [
    {
     "name": "stdout",
     "output_type": "stream",
     "text": [
      "Circle Area: 78.53981633974483\n",
      "Circle Perimeter: 31.41592653589793\n",
      "Rectangle Area: 24.0\n",
      "Rectangle Perimeter: 20.0\n"
     ]
    },
    {
     "data": {
      "text/plain": [
       "defined trait Shape\r\n",
       "defined class Circle\r\n",
       "defined class Rectangle\r\n",
       "circle: Circle = Circle@115ea99c\r\n",
       "rectangle: Rectangle = Rectangle@5bcc97cb\r\n"
      ]
     },
     "execution_count": 35,
     "metadata": {},
     "output_type": "execute_result"
    }
   ],
   "source": []
  },
  {
   "cell_type": "code",
   "execution_count": 1,
   "id": "842635c8-f4b4-4487-b39d-5f4181fb264b",
   "metadata": {},
   "outputs": [
    {
     "data": {
      "text/plain": [
       "Intitializing Scala interpreter ..."
      ]
     },
     "metadata": {},
     "output_type": "display_data"
    },
    {
     "data": {
      "text/plain": [
       "Spark Web UI available at http://172.19.47.135:4041\n",
       "SparkContext available as 'sc' (version = 3.5.2, master = local[*], app id = local-1725877887650)\n",
       "SparkSession available as 'spark'\n"
      ]
     },
     "metadata": {},
     "output_type": "display_data"
    },
    {
     "data": {
      "text/plain": [
       "defined class Animal\r\n",
       "defined class Dog\r\n",
       "defined class Bird\r\n",
       "defined object Main\r\n"
      ]
     },
     "execution_count": 1,
     "metadata": {},
     "output_type": "execute_result"
    }
   ],
   "source": [
    "// Define the base class Animal\n",
    "abstract class Animal {\n",
    "  def speak(): String\n",
    "  def move(): String\n",
    "}\n",
    "\n",
    "// Define the Dog class that inherits from Animal\n",
    "class Dog extends Animal {\n",
    "  override def speak(): String = \"Woof!\"\n",
    "  override def move(): String = \"Runs on four legs\"\n",
    "}\n",
    "\n",
    "// Define the Bird class that inherits from Animal\n",
    "class Bird extends Animal {\n",
    "  override def speak(): String = \"Chirp!\"\n",
    "  override def move(): String = \"Flies through the air\"\n",
    "}\n",
    "\n",
    "// Main object to test the implementation\n",
    "object Main extends App {\n",
    "  // Create instances of Dog and Bird\n",
    "  val dog: Animal = new Dog()\n",
    "  val bird: Animal = new Bird()\n",
    "\n",
    "  // Call the speak and move methods for each instance\n",
    "  println(s\"Dog says: ${dog.speak()}\")\n",
    "  println(s\"Dog moves by: ${dog.move()}\")\n",
    "\n",
    "  println(s\"Bird says: ${bird.speak()}\")\n",
    "  println(s\"Bird moves by: ${bird.move()}\")\n",
    "}\n"
   ]
  },
  {
   "cell_type": "code",
   "execution_count": 2,
   "id": "f0b7b87d-1610-4f69-bfd2-b8753d4df021",
   "metadata": {},
   "outputs": [
    {
     "name": "stdout",
     "output_type": "stream",
     "text": [
      "Deposited 1000.0. New balance: 3000.0\n",
      "Withdrew 300.0. New balance: 2700.0\n",
      "Current balance: 2700.0\n"
     ]
    },
    {
     "data": {
      "text/plain": [
       "defined class BankAccount\r\n",
       "account: BankAccount = BankAccount@56d33782\r\n"
      ]
     },
     "execution_count": 2,
     "metadata": {},
     "output_type": "execute_result"
    }
   ],
   "source": [
    "/* ENCAPSULATION */\n",
    "\n",
    "class BankAccount(private var accountNumber: String, private var balance: Double) {\n",
    " \n",
    "  def deposit(amount: Double){\n",
    "    if (amount > 0) {\n",
    "      balance += amount\n",
    "      println(f\"Deposited $amount. New balance: $balance\")\n",
    "    } else {\n",
    "      println(\"Deposit amount must be positive.\")\n",
    "    }\n",
    "  }\n",
    "   def withdraw(amount: Double){\n",
    "    if (amount > 0 && amount <= balance) {\n",
    "      balance -= amount\n",
    "      println(f\"Withdrew $amount. New balance: $balance\")\n",
    "    } else if (amount > balance) {\n",
    "      println(\"Insufficient balance.\")\n",
    "    } else {\n",
    "      println(\"Withdrawal amount must be positive.\")\n",
    "    }\n",
    "  }\n",
    "\n",
    " \n",
    "  def displayBalance(): Unit = {\n",
    "    println(f\"Current balance: $balance\")\n",
    "  }\n",
    "}\n",
    "val account = new BankAccount(\"346789876543\", 2000.0)\n",
    "account.deposit(1000.0)\n",
    "account.withdraw(300.0)\n",
    "account.displayBalance()  \n",
    "\n",
    "  "
   ]
  },
  {
   "cell_type": "code",
   "execution_count": null,
   "id": "44609225-ac9b-4a33-a7ee-09ff4b243d87",
   "metadata": {},
   "outputs": [],
   "source": []
  }
 ],
 "metadata": {
  "kernelspec": {
   "display_name": "spylon-kernel",
   "language": "scala",
   "name": "spylon-kernel"
  },
  "language_info": {
   "codemirror_mode": "text/x-scala",
   "file_extension": ".scala",
   "help_links": [
    {
     "text": "MetaKernel Magics",
     "url": "https://metakernel.readthedocs.io/en/latest/source/README.html"
    }
   ],
   "mimetype": "text/x-scala",
   "name": "scala",
   "pygments_lexer": "scala",
   "version": "0.4.1"
  }
 },
 "nbformat": 4,
 "nbformat_minor": 5
}
